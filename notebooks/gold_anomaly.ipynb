{
 "cells": [
  {
   "cell_type": "code",
   "execution_count": null,
   "id": "3eab1936",
   "metadata": {
    "vscode": {
     "languageId": "plaintext"
    }
   },
   "outputs": [],
   "source": [
    "# 🔧 Cell 1\n",
    "%run ./etl_gold\n",
    "\n",
    "%run ./base_anomaly_detector\n",
    "\n",
    "# 📦 Cell 2: ETL\n",
    "GoldETL().run()\n",
    "\n",
    "# 🧠 Cell 3: Anomaly Detection\n",
    "detector_if = BaseAnomalyDetector(spark, \"etl.gold_prices_monthly_agg\", method=\"isolation_forest\")\n",
    "anomalies_if = detector_if.run()\n",
    "\n",
    "detector_lof = BaseAnomalyDetector(spark, \"etl.gold_prices_monthly_agg\", method=\"lof\")\n",
    "anomalies_lof = detector_lof.run()\n",
    "\n",
    "detector_ocsvm = BaseAnomalyDetector(spark, \"etl.gold_prices_monthly_agg\", method=\"ocsvm\")\n",
    "anomalies_ocsvm = detector_ocsvm.run()\n",
    "\n",
    "\n"
   ]
  }
 ],
 "metadata": {
  "language_info": {
   "name": "python"
  }
 },
 "nbformat": 4,
 "nbformat_minor": 5
}
