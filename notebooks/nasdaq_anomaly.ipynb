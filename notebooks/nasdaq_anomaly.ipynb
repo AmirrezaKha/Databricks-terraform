{
 "cells": [
  {
   "cell_type": "code",
   "execution_count": null,
   "id": "8b1e7d3d",
   "metadata": {
    "vscode": {
     "languageId": "plaintext"
    }
   },
   "outputs": [],
   "source": [
    "# 🔧 Cell 1\n",
    "import mlflow, mlflow.sklearn\n",
    "from pyspark.sql import SparkSession\n",
    "from scripts.etl_nasdaq import NasdaqETL\n",
    "from scripts.anomaly_nasdaq import NasdaqAnomalyDetector\n",
    "\n",
    "spark = SparkSession.builder.appName(\"NasdaqPipeline\").getOrCreate()\n",
    "\n",
    "# 📦 Cell 2: ETL\n",
    "NasdaqETL().run()\n",
    "\n",
    "# 🧠 Cell 3: Anomaly Detection\n",
    "with mlflow.start_run(run_name=\"Nasdaq Anomaly\"):\n",
    "    det = NasdaqAnomalyDetector(spark, method=\"lof\")\n",
    "    anomalies = det.run()\n",
    "    mlflow.log_param(\"method\", det.method)\n",
    "    mlflow.log_metric(\"num_anomalies\", len(anomalies))\n",
    "    mlflow.sklearn.log_model(det.model, \"model\")\n",
    "    mlflow.log_artifact(\"scripts/anomaly_nasdaq.py\")\n",
    "\n",
    "# 📊 Cell 4: Display\n",
    "display(spark.table(\"main.etl.nasdaq_listings_enriched\"))\n",
    "display(anomalies)\n",
    "\n",
    "# 🔍 Cell 5: MLflow Tracking\n",
    "print(f\"Run ID: {mlflow.active_run().info.run_id}\")\n"
   ]
  }
 ],
 "metadata": {
  "language_info": {
   "name": "python"
  }
 },
 "nbformat": 4,
 "nbformat_minor": 5
}
