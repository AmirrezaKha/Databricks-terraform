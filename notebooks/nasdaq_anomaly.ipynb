{
 "cells": [
  {
   "cell_type": "code",
   "execution_count": null,
   "id": "8b1e7d3d",
   "metadata": {
    "vscode": {
     "languageId": "plaintext"
    }
   },
   "outputs": [],
   "source": [
    "# 🔧 Cell 1\n",
    "%run ./etl_nasdaq\n",
    "\n",
    "%run ./base_anomaly_detector\n",
    "\n",
    "# 📦 Cell 2: ETL\n",
    "NasdaqETL().run()\n",
    "\n",
    "# 🧠 Cell 3: Anomaly Detection\n",
    "detector_if = BaseAnomalyDetector(spark, \"etl.nasdaq_listings_enriched\", method=\"isolation_forest\")\n",
    "anomalies_if = detector_if.run()\n",
    "\n",
    "detector_lof = BaseAnomalyDetector(spark, \"etl.nasdaq_listings_enriched\", method=\"lof\")\n",
    "anomalies_lof = detector_lof.run()\n",
    "\n",
    "detector_ocsvm = BaseAnomalyDetector(spark, \"etl.nasdaq_listings_enriched\", method=\"ocsvm\")\n",
    "anomalies_ocsvm = detector_ocsvm.run()\n"
   ]
  }
 ],
 "metadata": {
  "language_info": {
   "name": "python"
  }
 },
 "nbformat": 4,
 "nbformat_minor": 5
}
